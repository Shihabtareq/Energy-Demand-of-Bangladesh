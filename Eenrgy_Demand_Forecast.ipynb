{
  "nbformat": 4,
  "nbformat_minor": 0,
  "metadata": {
    "colab": {
      "name": "Eenrgy_Demand_Forecast.ipynb",
      "provenance": [],
      "authorship_tag": "ABX9TyP9eCj5xoVjgLR42aVX3z5L",
      "include_colab_link": true
    },
    "kernelspec": {
      "name": "python3",
      "display_name": "Python 3"
    }
  },
  "cells": [
    {
      "cell_type": "markdown",
      "metadata": {
        "id": "view-in-github",
        "colab_type": "text"
      },
      "source": [
        "<a href=\"https://colab.research.google.com/github/Shihabtareq/Energy-Demand-of-Bangladesh/blob/master/Eenrgy_Demand_Forecast.ipynb\" target=\"_parent\"><img src=\"https://colab.research.google.com/assets/colab-badge.svg\" alt=\"Open In Colab\"/></a>"
      ]
    },
    {
      "cell_type": "code",
      "metadata": {
        "id": "TDN5DGwdJnJt",
        "colab_type": "code",
        "colab": {
          "base_uri": "https://localhost:8080/",
          "height": 349
        },
        "outputId": "0895b5cd-9b94-465d-b56e-b298d929d8f6"
      },
      "source": [
        "pip install pmdarima"
      ],
      "execution_count": 1,
      "outputs": [
        {
          "output_type": "stream",
          "text": [
            "Collecting pmdarima\n",
            "\u001b[?25l  Downloading https://files.pythonhosted.org/packages/83/aa/feb76414043592c3149059ab772a51de03fbf7544a8e19237f229a50a949/pmdarima-1.5.3-cp36-cp36m-manylinux1_x86_64.whl (1.5MB)\n",
            "\r\u001b[K     |▎                               | 10kB 17.3MB/s eta 0:00:01\r\u001b[K     |▌                               | 20kB 1.8MB/s eta 0:00:01\r\u001b[K     |▊                               | 30kB 2.6MB/s eta 0:00:01\r\u001b[K     |█                               | 40kB 3.4MB/s eta 0:00:01\r\u001b[K     |█▏                              | 51kB 2.1MB/s eta 0:00:01\r\u001b[K     |█▍                              | 61kB 2.5MB/s eta 0:00:01\r\u001b[K     |█▋                              | 71kB 2.9MB/s eta 0:00:01\r\u001b[K     |█▉                              | 81kB 3.3MB/s eta 0:00:01\r\u001b[K     |██                              | 92kB 2.5MB/s eta 0:00:01\r\u001b[K     |██▎                             | 102kB 2.8MB/s eta 0:00:01\r\u001b[K     |██▌                             | 112kB 2.8MB/s eta 0:00:01\r\u001b[K     |██▊                             | 122kB 2.8MB/s eta 0:00:01\r\u001b[K     |███                             | 133kB 2.8MB/s eta 0:00:01\r\u001b[K     |███▏                            | 143kB 2.8MB/s eta 0:00:01\r\u001b[K     |███▍                            | 153kB 2.8MB/s eta 0:00:01\r\u001b[K     |███▋                            | 163kB 2.8MB/s eta 0:00:01\r\u001b[K     |███▉                            | 174kB 2.8MB/s eta 0:00:01\r\u001b[K     |████                            | 184kB 2.8MB/s eta 0:00:01\r\u001b[K     |████▎                           | 194kB 2.8MB/s eta 0:00:01\r\u001b[K     |████▌                           | 204kB 2.8MB/s eta 0:00:01\r\u001b[K     |████▊                           | 215kB 2.8MB/s eta 0:00:01\r\u001b[K     |█████                           | 225kB 2.8MB/s eta 0:00:01\r\u001b[K     |█████▏                          | 235kB 2.8MB/s eta 0:00:01\r\u001b[K     |█████▍                          | 245kB 2.8MB/s eta 0:00:01\r\u001b[K     |█████▋                          | 256kB 2.8MB/s eta 0:00:01\r\u001b[K     |█████▉                          | 266kB 2.8MB/s eta 0:00:01\r\u001b[K     |██████                          | 276kB 2.8MB/s eta 0:00:01\r\u001b[K     |██████▎                         | 286kB 2.8MB/s eta 0:00:01\r\u001b[K     |██████▌                         | 296kB 2.8MB/s eta 0:00:01\r\u001b[K     |██████▊                         | 307kB 2.8MB/s eta 0:00:01\r\u001b[K     |███████                         | 317kB 2.8MB/s eta 0:00:01\r\u001b[K     |███████▏                        | 327kB 2.8MB/s eta 0:00:01\r\u001b[K     |███████▍                        | 337kB 2.8MB/s eta 0:00:01\r\u001b[K     |███████▋                        | 348kB 2.8MB/s eta 0:00:01\r\u001b[K     |███████▉                        | 358kB 2.8MB/s eta 0:00:01\r\u001b[K     |████████                        | 368kB 2.8MB/s eta 0:00:01\r\u001b[K     |████████▍                       | 378kB 2.8MB/s eta 0:00:01\r\u001b[K     |████████▋                       | 389kB 2.8MB/s eta 0:00:01\r\u001b[K     |████████▉                       | 399kB 2.8MB/s eta 0:00:01\r\u001b[K     |█████████                       | 409kB 2.8MB/s eta 0:00:01\r\u001b[K     |█████████▎                      | 419kB 2.8MB/s eta 0:00:01\r\u001b[K     |█████████▌                      | 430kB 2.8MB/s eta 0:00:01\r\u001b[K     |█████████▊                      | 440kB 2.8MB/s eta 0:00:01\r\u001b[K     |██████████                      | 450kB 2.8MB/s eta 0:00:01\r\u001b[K     |██████████▏                     | 460kB 2.8MB/s eta 0:00:01\r\u001b[K     |██████████▍                     | 471kB 2.8MB/s eta 0:00:01\r\u001b[K     |██████████▋                     | 481kB 2.8MB/s eta 0:00:01\r\u001b[K     |██████████▉                     | 491kB 2.8MB/s eta 0:00:01\r\u001b[K     |███████████                     | 501kB 2.8MB/s eta 0:00:01\r\u001b[K     |███████████▎                    | 512kB 2.8MB/s eta 0:00:01\r\u001b[K     |███████████▌                    | 522kB 2.8MB/s eta 0:00:01\r\u001b[K     |███████████▊                    | 532kB 2.8MB/s eta 0:00:01\r\u001b[K     |████████████                    | 542kB 2.8MB/s eta 0:00:01\r\u001b[K     |████████████▏                   | 552kB 2.8MB/s eta 0:00:01\r\u001b[K     |████████████▍                   | 563kB 2.8MB/s eta 0:00:01\r\u001b[K     |████████████▋                   | 573kB 2.8MB/s eta 0:00:01\r\u001b[K     |████████████▉                   | 583kB 2.8MB/s eta 0:00:01\r\u001b[K     |█████████████                   | 593kB 2.8MB/s eta 0:00:01\r\u001b[K     |█████████████▎                  | 604kB 2.8MB/s eta 0:00:01\r\u001b[K     |█████████████▌                  | 614kB 2.8MB/s eta 0:00:01\r\u001b[K     |█████████████▊                  | 624kB 2.8MB/s eta 0:00:01\r\u001b[K     |██████████████                  | 634kB 2.8MB/s eta 0:00:01\r\u001b[K     |██████████████▏                 | 645kB 2.8MB/s eta 0:00:01\r\u001b[K     |██████████████▍                 | 655kB 2.8MB/s eta 0:00:01\r\u001b[K     |██████████████▋                 | 665kB 2.8MB/s eta 0:00:01\r\u001b[K     |██████████████▉                 | 675kB 2.8MB/s eta 0:00:01\r\u001b[K     |███████████████                 | 686kB 2.8MB/s eta 0:00:01\r\u001b[K     |███████████████▎                | 696kB 2.8MB/s eta 0:00:01\r\u001b[K     |███████████████▌                | 706kB 2.8MB/s eta 0:00:01\r\u001b[K     |███████████████▊                | 716kB 2.8MB/s eta 0:00:01\r\u001b[K     |████████████████                | 727kB 2.8MB/s eta 0:00:01\r\u001b[K     |████████████████▏               | 737kB 2.8MB/s eta 0:00:01\r\u001b[K     |████████████████▍               | 747kB 2.8MB/s eta 0:00:01\r\u001b[K     |████████████████▊               | 757kB 2.8MB/s eta 0:00:01\r\u001b[K     |█████████████████               | 768kB 2.8MB/s eta 0:00:01\r\u001b[K     |█████████████████▏              | 778kB 2.8MB/s eta 0:00:01\r\u001b[K     |█████████████████▍              | 788kB 2.8MB/s eta 0:00:01\r\u001b[K     |█████████████████▋              | 798kB 2.8MB/s eta 0:00:01\r\u001b[K     |█████████████████▉              | 808kB 2.8MB/s eta 0:00:01\r\u001b[K     |██████████████████              | 819kB 2.8MB/s eta 0:00:01\r\u001b[K     |██████████████████▎             | 829kB 2.8MB/s eta 0:00:01\r\u001b[K     |██████████████████▌             | 839kB 2.8MB/s eta 0:00:01\r\u001b[K     |██████████████████▊             | 849kB 2.8MB/s eta 0:00:01\r\u001b[K     |███████████████████             | 860kB 2.8MB/s eta 0:00:01\r\u001b[K     |███████████████████▏            | 870kB 2.8MB/s eta 0:00:01\r\u001b[K     |███████████████████▍            | 880kB 2.8MB/s eta 0:00:01\r\u001b[K     |███████████████████▋            | 890kB 2.8MB/s eta 0:00:01\r\u001b[K     |███████████████████▉            | 901kB 2.8MB/s eta 0:00:01\r\u001b[K     |████████████████████            | 911kB 2.8MB/s eta 0:00:01\r\u001b[K     |████████████████████▎           | 921kB 2.8MB/s eta 0:00:01\r\u001b[K     |████████████████████▌           | 931kB 2.8MB/s eta 0:00:01\r\u001b[K     |████████████████████▊           | 942kB 2.8MB/s eta 0:00:01\r\u001b[K     |█████████████████████           | 952kB 2.8MB/s eta 0:00:01\r\u001b[K     |█████████████████████▏          | 962kB 2.8MB/s eta 0:00:01\r\u001b[K     |█████████████████████▍          | 972kB 2.8MB/s eta 0:00:01\r\u001b[K     |█████████████████████▋          | 983kB 2.8MB/s eta 0:00:01\r\u001b[K     |█████████████████████▉          | 993kB 2.8MB/s eta 0:00:01\r\u001b[K     |██████████████████████          | 1.0MB 2.8MB/s eta 0:00:01\r\u001b[K     |██████████████████████▎         | 1.0MB 2.8MB/s eta 0:00:01\r\u001b[K     |██████████████████████▌         | 1.0MB 2.8MB/s eta 0:00:01\r\u001b[K     |██████████████████████▊         | 1.0MB 2.8MB/s eta 0:00:01\r\u001b[K     |███████████████████████         | 1.0MB 2.8MB/s eta 0:00:01\r\u001b[K     |███████████████████████▏        | 1.1MB 2.8MB/s eta 0:00:01\r\u001b[K     |███████████████████████▍        | 1.1MB 2.8MB/s eta 0:00:01\r\u001b[K     |███████████████████████▋        | 1.1MB 2.8MB/s eta 0:00:01\r\u001b[K     |███████████████████████▉        | 1.1MB 2.8MB/s eta 0:00:01\r\u001b[K     |████████████████████████        | 1.1MB 2.8MB/s eta 0:00:01\r\u001b[K     |████████████████████████▎       | 1.1MB 2.8MB/s eta 0:00:01\r\u001b[K     |████████████████████████▌       | 1.1MB 2.8MB/s eta 0:00:01\r\u001b[K     |████████████████████████▉       | 1.1MB 2.8MB/s eta 0:00:01\r\u001b[K     |█████████████████████████       | 1.1MB 2.8MB/s eta 0:00:01\r\u001b[K     |█████████████████████████▎      | 1.1MB 2.8MB/s eta 0:00:01\r\u001b[K     |█████████████████████████▌      | 1.2MB 2.8MB/s eta 0:00:01\r\u001b[K     |█████████████████████████▊      | 1.2MB 2.8MB/s eta 0:00:01\r\u001b[K     |██████████████████████████      | 1.2MB 2.8MB/s eta 0:00:01\r\u001b[K     |██████████████████████████▏     | 1.2MB 2.8MB/s eta 0:00:01\r\u001b[K     |██████████████████████████▍     | 1.2MB 2.8MB/s eta 0:00:01\r\u001b[K     |██████████████████████████▋     | 1.2MB 2.8MB/s eta 0:00:01\r\u001b[K     |██████████████████████████▉     | 1.2MB 2.8MB/s eta 0:00:01\r\u001b[K     |███████████████████████████     | 1.2MB 2.8MB/s eta 0:00:01\r\u001b[K     |███████████████████████████▎    | 1.2MB 2.8MB/s eta 0:00:01\r\u001b[K     |███████████████████████████▌    | 1.2MB 2.8MB/s eta 0:00:01\r\u001b[K     |███████████████████████████▊    | 1.3MB 2.8MB/s eta 0:00:01\r\u001b[K     |████████████████████████████    | 1.3MB 2.8MB/s eta 0:00:01\r\u001b[K     |████████████████████████████▏   | 1.3MB 2.8MB/s eta 0:00:01\r\u001b[K     |████████████████████████████▍   | 1.3MB 2.8MB/s eta 0:00:01\r\u001b[K     |████████████████████████████▋   | 1.3MB 2.8MB/s eta 0:00:01\r\u001b[K     |████████████████████████████▉   | 1.3MB 2.8MB/s eta 0:00:01\r\u001b[K     |█████████████████████████████   | 1.3MB 2.8MB/s eta 0:00:01\r\u001b[K     |█████████████████████████████▎  | 1.3MB 2.8MB/s eta 0:00:01\r\u001b[K     |█████████████████████████████▌  | 1.3MB 2.8MB/s eta 0:00:01\r\u001b[K     |█████████████████████████████▊  | 1.4MB 2.8MB/s eta 0:00:01\r\u001b[K     |██████████████████████████████  | 1.4MB 2.8MB/s eta 0:00:01\r\u001b[K     |██████████████████████████████▏ | 1.4MB 2.8MB/s eta 0:00:01\r\u001b[K     |██████████████████████████████▍ | 1.4MB 2.8MB/s eta 0:00:01\r\u001b[K     |██████████████████████████████▋ | 1.4MB 2.8MB/s eta 0:00:01\r\u001b[K     |██████████████████████████████▉ | 1.4MB 2.8MB/s eta 0:00:01\r\u001b[K     |███████████████████████████████ | 1.4MB 2.8MB/s eta 0:00:01\r\u001b[K     |███████████████████████████████▎| 1.4MB 2.8MB/s eta 0:00:01\r\u001b[K     |███████████████████████████████▌| 1.4MB 2.8MB/s eta 0:00:01\r\u001b[K     |███████████████████████████████▊| 1.4MB 2.8MB/s eta 0:00:01\r\u001b[K     |████████████████████████████████| 1.5MB 2.8MB/s eta 0:00:01\r\u001b[K     |████████████████████████████████| 1.5MB 2.8MB/s \n",
            "\u001b[?25hRequirement already satisfied: joblib>=0.11 in /usr/local/lib/python3.6/dist-packages (from pmdarima) (0.14.1)\n",
            "Requirement already satisfied: pandas>=0.19 in /usr/local/lib/python3.6/dist-packages (from pmdarima) (1.0.3)\n",
            "Requirement already satisfied: urllib3 in /usr/local/lib/python3.6/dist-packages (from pmdarima) (1.24.3)\n",
            "Requirement already satisfied: numpy>=1.17.3 in /usr/local/lib/python3.6/dist-packages (from pmdarima) (1.18.2)\n",
            "Requirement already satisfied: Cython>=0.29 in /usr/local/lib/python3.6/dist-packages (from pmdarima) (0.29.16)\n",
            "Requirement already satisfied: scikit-learn>=0.22 in /usr/local/lib/python3.6/dist-packages (from pmdarima) (0.22.2.post1)\n",
            "Requirement already satisfied: scipy>=1.3.2 in /usr/local/lib/python3.6/dist-packages (from pmdarima) (1.4.1)\n",
            "Requirement already satisfied: statsmodels>=0.10.2 in /usr/local/lib/python3.6/dist-packages (from pmdarima) (0.10.2)\n",
            "Requirement already satisfied: python-dateutil>=2.6.1 in /usr/local/lib/python3.6/dist-packages (from pandas>=0.19->pmdarima) (2.8.1)\n",
            "Requirement already satisfied: pytz>=2017.2 in /usr/local/lib/python3.6/dist-packages (from pandas>=0.19->pmdarima) (2018.9)\n",
            "Requirement already satisfied: patsy>=0.4.0 in /usr/local/lib/python3.6/dist-packages (from statsmodels>=0.10.2->pmdarima) (0.5.1)\n",
            "Requirement already satisfied: six>=1.5 in /usr/local/lib/python3.6/dist-packages (from python-dateutil>=2.6.1->pandas>=0.19->pmdarima) (1.12.0)\n",
            "Installing collected packages: pmdarima\n",
            "Successfully installed pmdarima-1.5.3\n"
          ],
          "name": "stdout"
        }
      ]
    },
    {
      "cell_type": "code",
      "metadata": {
        "id": "uayy-sHpI6ys",
        "colab_type": "code",
        "colab": {
          "base_uri": "https://localhost:8080/",
          "height": 74
        },
        "outputId": "b27e9df4-e175-4388-a1a2-0b10a035cda9"
      },
      "source": [
        "import numpy as np\n",
        "import pandas as pd\n",
        "import pmdarima as pm\n",
        "import matplotlib.pyplot as plt\n",
        "%matplotlib inline"
      ],
      "execution_count": 2,
      "outputs": [
        {
          "output_type": "stream",
          "text": [
            "/usr/local/lib/python3.6/dist-packages/statsmodels/tools/_testing.py:19: FutureWarning: pandas.util.testing is deprecated. Use the functions in the public API at pandas.testing instead.\n",
            "  import pandas.util.testing as tm\n"
          ],
          "name": "stderr"
        }
      ]
    },
    {
      "cell_type": "code",
      "metadata": {
        "id": "Z3ry4Q5HJOP6",
        "colab_type": "code",
        "colab": {
          "base_uri": "https://localhost:8080/",
          "height": 238
        },
        "outputId": "6a01693a-97a8-44b0-db30-0980df93a90a"
      },
      "source": [
        "df = pd.read_csv(\"https://raw.githubusercontent.com/Shihabtareq/Energy-Demand-of-Bangladesh/master/Eenrgy-demand.csv\",parse_dates=['Year'], index_col='Year')\n",
        "df.head()\n",
        "\n"
      ],
      "execution_count": 3,
      "outputs": [
        {
          "output_type": "execute_result",
          "data": {
            "text/html": [
              "<div>\n",
              "<style scoped>\n",
              "    .dataframe tbody tr th:only-of-type {\n",
              "        vertical-align: middle;\n",
              "    }\n",
              "\n",
              "    .dataframe tbody tr th {\n",
              "        vertical-align: top;\n",
              "    }\n",
              "\n",
              "    .dataframe thead th {\n",
              "        text-align: right;\n",
              "    }\n",
              "</style>\n",
              "<table border=\"1\" class=\"dataframe\">\n",
              "  <thead>\n",
              "    <tr style=\"text-align: right;\">\n",
              "      <th></th>\n",
              "      <th>Demand</th>\n",
              "      <th>Population</th>\n",
              "      <th>GDP</th>\n",
              "    </tr>\n",
              "    <tr>\n",
              "      <th>Year</th>\n",
              "      <th></th>\n",
              "      <th></th>\n",
              "      <th></th>\n",
              "    </tr>\n",
              "  </thead>\n",
              "  <tbody>\n",
              "    <tr>\n",
              "      <th>1994-01-01</th>\n",
              "      <td>2038</td>\n",
              "      <td>117</td>\n",
              "      <td>300</td>\n",
              "    </tr>\n",
              "    <tr>\n",
              "      <th>1995-01-01</th>\n",
              "      <td>2220</td>\n",
              "      <td>119</td>\n",
              "      <td>329</td>\n",
              "    </tr>\n",
              "    <tr>\n",
              "      <th>1996-01-01</th>\n",
              "      <td>2419</td>\n",
              "      <td>120</td>\n",
              "      <td>395</td>\n",
              "    </tr>\n",
              "    <tr>\n",
              "      <th>1997-01-01</th>\n",
              "      <td>2638</td>\n",
              "      <td>127</td>\n",
              "      <td>401</td>\n",
              "    </tr>\n",
              "    <tr>\n",
              "      <th>1998-01-01</th>\n",
              "      <td>2881</td>\n",
              "      <td>128</td>\n",
              "      <td>407</td>\n",
              "    </tr>\n",
              "  </tbody>\n",
              "</table>\n",
              "</div>"
            ],
            "text/plain": [
              "            Demand  Population  GDP\n",
              "Year                               \n",
              "1994-01-01    2038         117  300\n",
              "1995-01-01    2220         119  329\n",
              "1996-01-01    2419         120  395\n",
              "1997-01-01    2638         127  401\n",
              "1998-01-01    2881         128  407"
            ]
          },
          "metadata": {
            "tags": []
          },
          "execution_count": 3
        }
      ]
    },
    {
      "cell_type": "code",
      "metadata": {
        "id": "8UlPgsNIJnqC",
        "colab_type": "code",
        "colab": {
          "base_uri": "https://localhost:8080/",
          "height": 281
        },
        "outputId": "aec35b39-a73d-44bb-a421-a17eef72de56"
      },
      "source": [
        "pm.plot_acf(df.Demand)"
      ],
      "execution_count": 6,
      "outputs": [
        {
          "output_type": "display_data",
          "data": {
            "image/png": "[encoded data removed]",
            "text/plain": [
              "<Figure size 432x288 with 1 Axes>"
            ]
          },
          "metadata": {
            "tags": [],
            "needs_background": "light"
          }
        }
      ]
    },
    {
      "cell_type": "code",
      "metadata": {
        "id": "-wKzQFnlJtMg",
        "colab_type": "code",
        "colab": {
          "base_uri": "https://localhost:8080/",
          "height": 281
        },
        "outputId": "9231a5ea-e570-4ac7-d6cd-5189c21a1819"
      },
      "source": [
        "pm.plot_acf(df.Population)"
      ],
      "execution_count": 7,
      "outputs": [
        {
          "output_type": "display_data",
          "data": {
            "image/png": "[encoded data removed]",
            "text/plain": [
              "<Figure size 432x288 with 1 Axes>"
            ]
          },
          "metadata": {
            "tags": [],
            "needs_background": "light"
          }
        }
      ]
    },
    {
      "cell_type": "code",
      "metadata": {
        "id": "--rJ64mOKqdK",
        "colab_type": "code",
        "colab": {
          "base_uri": "https://localhost:8080/",
          "height": 281
        },
        "outputId": "50102753-e259-499c-875a-d47d57db740c"
      },
      "source": [
        "pm.plot_acf(df.GDP)"
      ],
      "execution_count": 8,
      "outputs": [
        {
          "output_type": "display_data",
          "data": {
            "image/png": "[encoded data removed]",
            "text/plain": [
              "<Figure size 432x288 with 1 Axes>"
            ]
          },
          "metadata": {
            "tags": [],
            "needs_background": "light"
          }
        }
      ]
    },
    {
      "cell_type": "code",
      "metadata": {
        "id": "15sflRUvKvuq",
        "colab_type": "code",
        "colab": {
          "base_uri": "https://localhost:8080/",
          "height": 283
        },
        "outputId": "280c1c93-e7b9-4cd3-b899-f9f4b29f23d4"
      },
      "source": [
        "#check autocorrelation using pmdarima\n",
        "pm.autocorr_plot(df)"
      ],
      "execution_count": 9,
      "outputs": [
        {
          "output_type": "display_data",
          "data": {
            "image/png": "[encoded data removed]",
            "text/plain": [
              "<Figure size 432x288 with 1 Axes>"
            ]
          },
          "metadata": {
            "tags": [],
            "needs_background": "light"
          }
        }
      ]
    },
    {
      "cell_type": "code",
      "metadata": {
        "id": "VPeGyLIgL4dK",
        "colab_type": "code",
        "colab": {
          "base_uri": "https://localhost:8080/",
          "height": 283
        },
        "outputId": "ef1262ee-aa2c-448c-8f35-b901c3a50cd0"
      },
      "source": [
        "pm.autocorr_plot(df.Demand)"
      ],
      "execution_count": 10,
      "outputs": [
        {
          "output_type": "display_data",
          "data": {
            "image/png": "[encoded data removed]",
            "text/plain": [
              "<Figure size 432x288 with 1 Axes>"
            ]
          },
          "metadata": {
            "tags": [],
            "needs_background": "light"
          }
        }
      ]
    },
    {
      "cell_type": "code",
      "metadata": {
        "id": "Kh9CqTOpL7X6",
        "colab_type": "code",
        "colab": {
          "base_uri": "https://localhost:8080/",
          "height": 283
        },
        "outputId": "6ace11e0-e130-4902-b865-634ddafd28a5"
      },
      "source": [
        "pm.autocorr_plot(df.Population)"
      ],
      "execution_count": 11,
      "outputs": [
        {
          "output_type": "display_data",
          "data": {
            "image/png": "[encoded data removed]",
            "text/plain": [
              "<Figure size 432x288 with 1 Axes>"
            ]
          },
          "metadata": {
            "tags": [],
            "needs_background": "light"
          }
        }
      ]
    },
    {
      "cell_type": "code",
      "metadata": {
        "id": "pNitrIdOMExJ",
        "colab_type": "code",
        "colab": {
          "base_uri": "https://localhost:8080/",
          "height": 283
        },
        "outputId": "9db33836-892e-4e01-e839-615092a8f509"
      },
      "source": [
        "pm.autocorr_plot(df.GDP)"
      ],
      "execution_count": 12,
      "outputs": [
        {
          "output_type": "display_data",
          "data": {
            "image/png": "[encoded data removed]",
            "text/plain": [
              "<Figure size 432x288 with 1 Axes>"
            ]
          },
          "metadata": {
            "tags": [],
            "needs_background": "light"
          }
        }
      ]
    },
    {
      "cell_type": "code",
      "metadata": {
        "id": "yakvVMKVMJBZ",
        "colab_type": "code",
        "colab": {
          "base_uri": "https://localhost:8080/",
          "height": 513
        },
        "outputId": "0c725a94-963d-48cb-b0c2-c95a3c883493"
      },
      "source": [
        "exgo=df[['Population','GDP']]\n",
        "print(exgo)\n"
      ],
      "execution_count": 15,
      "outputs": [
        {
          "output_type": "stream",
          "text": [
            "            Population   GDP\n",
            "Year                        \n",
            "1994-01-01         117   300\n",
            "1995-01-01         119   329\n",
            "1996-01-01         120   395\n",
            "1997-01-01         127   401\n",
            "1998-01-01         128   407\n",
            "1999-01-01         130   410\n",
            "2000-01-01         132   418\n",
            "2001-01-01         134   415\n",
            "2002-01-01         133   413\n",
            "2003-01-01         135   446\n",
            "2004-01-01         137   475\n",
            "2005-01-01         139   499\n",
            "2006-01-01         141   510\n",
            "2007-01-01         143   558\n",
            "2008-01-01         145   635\n",
            "2009-01-01         146   702\n",
            "2010-01-01         148   781\n",
            "2011-01-01         152   862\n",
            "2012-01-01         154   883\n",
            "2013-01-01         156   982\n",
            "2014-01-01         159  1119\n",
            "2015-01-01         161  1248\n",
            "2016-01-01         163  1402\n",
            "2017-01-01         164  1564\n",
            "2018-01-01         166  1698\n"
          ],
          "name": "stdout"
        }
      ]
    },
    {
      "cell_type": "code",
      "metadata": {
        "id": "bswe1jSlMsQK",
        "colab_type": "code",
        "colab": {
          "base_uri": "https://localhost:8080/",
          "height": 421
        },
        "outputId": "55d33a64-2dac-4cbd-a1e6-e543a5df2be5"
      },
      "source": [
        "train, test = df[0:int(len(df)*0.8)], df[int(len(df)*0.8):]\n",
        "print(train)"
      ],
      "execution_count": 16,
      "outputs": [
        {
          "output_type": "stream",
          "text": [
            "            Demand  Population  GDP\n",
            "Year                               \n",
            "1994-01-01    2038         117  300\n",
            "1995-01-01    2220         119  329\n",
            "1996-01-01    2419         120  395\n",
            "1997-01-01    2638         127  401\n",
            "1998-01-01    2881         128  407\n",
            "1999-01-01    3149         130  410\n",
            "2000-01-01    3394         132  418\n",
            "2001-01-01    3659         134  415\n",
            "2002-01-01    3947         133  413\n",
            "2003-01-01    4259         135  446\n",
            "2004-01-01    4597         137  475\n",
            "2005-01-01    4693         139  499\n",
            "2006-01-01    5112         141  510\n",
            "2007-01-01    5569         143  558\n",
            "2008-01-01    6066         145  635\n",
            "2009-01-01    6454         146  702\n",
            "2010-01-01    6765         148  781\n",
            "2011-01-01    7518         152  862\n",
            "2012-01-01    8349         154  883\n",
            "2013-01-01    9268         156  982\n"
          ],
          "name": "stdout"
        }
      ]
    },
    {
      "cell_type": "code",
      "metadata": {
        "id": "GQ1z5dEdNtjK",
        "colab_type": "code",
        "colab": {
          "base_uri": "https://localhost:8080/",
          "height": 257
        },
        "outputId": "91d633d2-7a64-4e7a-b620-0d2ee2b06a4b"
      },
      "source": [
        "arima = pm.auto_arima(df.Demand, start_p=1,exogenous=exgo, start_q=1,\n",
        "                           max_p=5, max_q=5, \n",
        "                           seasonal=False,\n",
        "                           d=1,  trace=True,\n",
        "                           error_action='ignore',  \n",
        "                           suppress_warnings=True, \n",
        "                           stepwise=True)\n",
        "print(arima.aic())"
      ],
      "execution_count": 21,
      "outputs": [
        {
          "output_type": "stream",
          "text": [
            "Performing stepwise search to minimize aic\n",
            "Fit ARIMA: (1, 1, 1)x(0, 0, 0, 0) (constant=True); AIC=370.295, BIC=377.363, Time=0.263 seconds\n",
            "Fit ARIMA: (0, 1, 0)x(0, 0, 0, 0) (constant=True); AIC=367.414, BIC=372.127, Time=0.044 seconds\n",
            "Fit ARIMA: (1, 1, 0)x(0, 0, 0, 0) (constant=True); AIC=369.231, BIC=375.121, Time=0.124 seconds\n",
            "Fit ARIMA: (0, 1, 1)x(0, 0, 0, 0) (constant=True); AIC=366.565, BIC=372.456, Time=0.210 seconds\n",
            "Fit ARIMA: (0, 1, 0)x(0, 0, 0, 0) (constant=False); AIC=367.138, BIC=370.672, Time=0.039 seconds\n",
            "Fit ARIMA: (0, 1, 2)x(0, 0, 0, 0) (constant=True); AIC=362.218, BIC=369.287, Time=0.212 seconds\n",
            "Near non-invertible roots for order (0, 1, 2)(0, 0, 0, 0); setting score to inf (at least one inverse root too close to the border of the unit circle: 1.000)\n",
            "Fit ARIMA: (1, 1, 2)x(0, 0, 0, 0) (constant=True); AIC=365.490, BIC=373.736, Time=0.309 seconds\n",
            "Near non-invertible roots for order (1, 1, 2)(0, 0, 0, 0); setting score to inf (at least one inverse root too close to the border of the unit circle: 1.000)\n",
            "Total fit time: 1.208 seconds\n",
            "362.21828638486784\n"
          ],
          "name": "stdout"
        }
      ]
    },
    {
      "cell_type": "code",
      "metadata": {
        "id": "z2LYybXnU4-9",
        "colab_type": "code",
        "colab": {
          "base_uri": "https://localhost:8080/",
          "height": 90
        },
        "outputId": "a7e05a36-a75b-42f2-b4e3-0a1ea0291bc0"
      },
      "source": [
        "arima.fit(df.Demand,exogenous=exgo)"
      ],
      "execution_count": 25,
      "outputs": [
        {
          "output_type": "execute_result",
          "data": {
            "text/plain": [
              "ARIMA(maxiter=50, method='lbfgs', order=(0, 1, 2), out_of_sample_size=0,\n",
              "      scoring='mse', scoring_args=None, seasonal_order=(0, 0, 0, 0),\n",
              "      start_params=None, suppress_warnings=True, trend=None,\n",
              "      with_intercept=True)"
            ]
          },
          "metadata": {
            "tags": []
          },
          "execution_count": 25
        }
      ]
    },
    {
      "cell_type": "code",
      "metadata": {
        "id": "v0Khedt8OGPl",
        "colab_type": "code",
        "colab": {
          "base_uri": "https://localhost:8080/",
          "height": 512
        },
        "outputId": "b0d99a42-5492-4f4e-ff0d-2aba6a7ebe40"
      },
      "source": [
        "arima.summary()"
      ],
      "execution_count": 26,
      "outputs": [
        {
          "output_type": "execute_result",
          "data": {
            "text/html": [
              "<table class=\"simpletable\">\n",
              "<caption>Statespace Model Results</caption>\n",
              "<tr>\n",
              "  <th>Dep. Variable:</th>           <td>y</td>        <th>  No. Observations:  </th>    <td>25</td>   \n",
              "</tr>\n",
              "<tr>\n",
              "  <th>Model:</th>           <td>SARIMAX(0, 1, 2)</td> <th>  Log Likelihood     </th> <td>-175.109</td>\n",
              "</tr>\n",
              "<tr>\n",
              "  <th>Date:</th>            <td>Mon, 13 Apr 2020</td> <th>  AIC                </th>  <td>362.218</td>\n",
              "</tr>\n",
              "<tr>\n",
              "  <th>Time:</th>                <td>16:23:37</td>     <th>  BIC                </th>  <td>369.287</td>\n",
              "</tr>\n",
              "<tr>\n",
              "  <th>Sample:</th>             <td>01-01-1994</td>    <th>  HQIC               </th>  <td>364.094</td>\n",
              "</tr>\n",
              "<tr>\n",
              "  <th></th>                   <td>- 01-01-2018</td>   <th>                     </th>     <td> </td>   \n",
              "</tr>\n",
              "<tr>\n",
              "  <th>Covariance Type:</th>        <td>opg</td>       <th>                     </th>     <td> </td>   \n",
              "</tr>\n",
              "</table>\n",
              "<table class=\"simpletable\">\n",
              "<tr>\n",
              "       <td></td>         <th>coef</th>     <th>std err</th>      <th>z</th>      <th>P>|z|</th>  <th>[0.025</th>    <th>0.975]</th>  \n",
              "</tr>\n",
              "<tr>\n",
              "  <th>intercept</th>  <td>  273.3985</td> <td>  298.961</td> <td>    0.914</td> <td> 0.360</td> <td> -312.553</td> <td>  859.351</td>\n",
              "</tr>\n",
              "<tr>\n",
              "  <th>Population</th> <td>  -26.4179</td> <td>  143.160</td> <td>   -0.185</td> <td> 0.854</td> <td> -307.006</td> <td>  254.170</td>\n",
              "</tr>\n",
              "<tr>\n",
              "  <th>GDP</th>        <td>    4.3209</td> <td>    2.225</td> <td>    1.942</td> <td> 0.052</td> <td>   -0.040</td> <td>    8.682</td>\n",
              "</tr>\n",
              "<tr>\n",
              "  <th>ma.L1</th>      <td>   -0.4146</td> <td>    0.919</td> <td>   -0.451</td> <td> 0.652</td> <td>   -2.217</td> <td>    1.387</td>\n",
              "</tr>\n",
              "<tr>\n",
              "  <th>ma.L2</th>      <td>   -0.5852</td> <td>    0.836</td> <td>   -0.700</td> <td> 0.484</td> <td>   -2.223</td> <td>    1.053</td>\n",
              "</tr>\n",
              "<tr>\n",
              "  <th>sigma2</th>     <td> 1.157e+05</td> <td>    0.001</td> <td> 1.36e+08</td> <td> 0.000</td> <td> 1.16e+05</td> <td> 1.16e+05</td>\n",
              "</tr>\n",
              "</table>\n",
              "<table class=\"simpletable\">\n",
              "<tr>\n",
              "  <th>Ljung-Box (Q):</th>           <td>nan</td>  <th>  Jarque-Bera (JB):  </th> <td>24.90</td>\n",
              "</tr>\n",
              "<tr>\n",
              "  <th>Prob(Q):</th>                 <td>nan</td>  <th>  Prob(JB):          </th> <td>0.00</td> \n",
              "</tr>\n",
              "<tr>\n",
              "  <th>Heteroskedasticity (H):</th> <td>75.22</td> <th>  Skew:              </th> <td>-1.08</td>\n",
              "</tr>\n",
              "<tr>\n",
              "  <th>Prob(H) (two-sided):</th>    <td>0.00</td>  <th>  Kurtosis:          </th> <td>7.50</td> \n",
              "</tr>\n",
              "</table><br/><br/>Warnings:<br/>[1] Covariance matrix calculated using the outer product of gradients (complex-step).<br/>[2] Covariance matrix is singular or near-singular, with condition number 1.2e+27. Standard errors may be unstable."
            ],
            "text/plain": [
              "<class 'statsmodels.iolib.summary.Summary'>\n",
              "\"\"\"\n",
              "                           Statespace Model Results                           \n",
              "==============================================================================\n",
              "Dep. Variable:                      y   No. Observations:                   25\n",
              "Model:               SARIMAX(0, 1, 2)   Log Likelihood                -175.109\n",
              "Date:                Mon, 13 Apr 2020   AIC                            362.218\n",
              "Time:                        16:23:37   BIC                            369.287\n",
              "Sample:                    01-01-1994   HQIC                           364.094\n",
              "                         - 01-01-2018                                         \n",
              "Covariance Type:                  opg                                         \n",
              "==============================================================================\n",
              "                 coef    std err          z      P>|z|      [0.025      0.975]\n",
              "------------------------------------------------------------------------------\n",
              "intercept    273.3985    298.961      0.914      0.360    -312.553     859.351\n",
              "Population   -26.4179    143.160     -0.185      0.854    -307.006     254.170\n",
              "GDP            4.3209      2.225      1.942      0.052      -0.040       8.682\n",
              "ma.L1         -0.4146      0.919     -0.451      0.652      -2.217       1.387\n",
              "ma.L2         -0.5852      0.836     -0.700      0.484      -2.223       1.053\n",
              "sigma2      1.157e+05      0.001   1.36e+08      0.000    1.16e+05    1.16e+05\n",
              "===================================================================================\n",
              "Ljung-Box (Q):                         nan   Jarque-Bera (JB):                24.90\n",
              "Prob(Q):                               nan   Prob(JB):                         0.00\n",
              "Heteroskedasticity (H):              75.22   Skew:                            -1.08\n",
              "Prob(H) (two-sided):                  0.00   Kurtosis:                         7.50\n",
              "===================================================================================\n",
              "\n",
              "Warnings:\n",
              "[1] Covariance matrix calculated using the outer product of gradients (complex-step).\n",
              "[2] Covariance matrix is singular or near-singular, with condition number 1.2e+27. Standard errors may be unstable.\n",
              "\"\"\""
            ]
          },
          "metadata": {
            "tags": []
          },
          "execution_count": 26
        }
      ]
    },
    {
      "cell_type": "code",
      "metadata": {
        "id": "XWVjkR4lWcMm",
        "colab_type": "code",
        "colab": {
          "base_uri": "https://localhost:8080/",
          "height": 54
        },
        "outputId": "c6c5e9e8-1024-49d8-fc33-4ded7b30ff5e"
      },
      "source": [
        "forecast = arima.predict(n_periods=5, exogenous=exgo[20:], return_conf_int=False, alpha=0.05)\n",
        "forecast"
      ],
      "execution_count": 30,
      "outputs": [
        {
          "output_type": "execute_result",
          "data": {
            "text/plain": [
              "array([10953.50861658, 11685.9745131 , 12571.95238917, 13518.91515505,\n",
              "       14318.4754864 ])"
            ]
          },
          "metadata": {
            "tags": []
          },
          "execution_count": 30
        }
      ]
    },
    {
      "cell_type": "code",
      "metadata": {
        "id": "1TJ_7kcJa3Ir",
        "colab_type": "code",
        "colab": {}
      },
      "source": [
        ""
      ],
      "execution_count": 0,
      "outputs": []
    }
  ]
}