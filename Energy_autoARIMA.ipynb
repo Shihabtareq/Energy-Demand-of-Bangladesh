{
  "nbformat": 4,
  "nbformat_minor": 0,
  "metadata": {
    "colab": {
      "name": "Energy_autoARIMA.ipynb",
      "provenance": [],
      "authorship_tag": "ABX9TyOIkvqVS+4ErPlx6WNdsN/T",
      "include_colab_link": true
    },
    "kernelspec": {
      "name": "python3",
      "display_name": "Python 3"
    }
  },
  "cells": [
    {
      "cell_type": "markdown",
      "metadata": {
        "id": "view-in-github",
        "colab_type": "text"
      },
      "source": [
        "<a href=\"https://colab.research.google.com/github/Shihabtareq/Energy-Demand-of-Bangladesh/blob/master/Energy_autoARIMA.ipynb\" target=\"_parent\"><img src=\"https://colab.research.google.com/assets/colab-badge.svg\" alt=\"Open In Colab\"/></a>"
      ]
    },
    {
      "cell_type": "code",
      "metadata": {
        "id": "UNfi5f2X_RMf",
        "colab_type": "code",
        "colab": {
          "base_uri": "https://localhost:8080/",
          "height": 331
        },
        "outputId": "8fbef335-7dd7-4280-dd86-f8ea917310b0"
      },
      "source": [
        "pip install pyramid-arima"
      ],
      "execution_count": 1,
      "outputs": [
        {
          "output_type": "stream",
          "text": [
            "Collecting pyramid-arima\n",
            "\u001b[?25l  Downloading https://files.pythonhosted.org/packages/5c/84/57422f2a6ade3161c586545e38b518ba1b7ab30ee4a4acc29110c0aba2bc/pyramid_arima-0.9.0-cp36-cp36m-manylinux1_x86_64.whl (597kB)\n",
            "\u001b[K     |████████████████████████████████| 604kB 2.8MB/s \n",
            "\u001b[?25hRequirement already satisfied: scikit-learn>=0.17 in /usr/local/lib/python3.6/dist-packages (from pyramid-arima) (0.22.2.post1)\n",
            "Requirement already satisfied: Cython>=0.23 in /usr/local/lib/python3.6/dist-packages (from pyramid-arima) (0.29.16)\n",
            "Requirement already satisfied: numpy>=1.10 in /usr/local/lib/python3.6/dist-packages (from pyramid-arima) (1.18.2)\n",
            "Requirement already satisfied: pandas>=0.19 in /usr/local/lib/python3.6/dist-packages (from pyramid-arima) (1.0.3)\n",
            "Requirement already satisfied: scipy>=0.9 in /usr/local/lib/python3.6/dist-packages (from pyramid-arima) (1.4.1)\n",
            "Requirement already satisfied: statsmodels>=0.9.0 in /usr/local/lib/python3.6/dist-packages (from pyramid-arima) (0.10.2)\n",
            "Requirement already satisfied: joblib>=0.11 in /usr/local/lib/python3.6/dist-packages (from scikit-learn>=0.17->pyramid-arima) (0.14.1)\n",
            "Requirement already satisfied: pytz>=2017.2 in /usr/local/lib/python3.6/dist-packages (from pandas>=0.19->pyramid-arima) (2018.9)\n",
            "Requirement already satisfied: python-dateutil>=2.6.1 in /usr/local/lib/python3.6/dist-packages (from pandas>=0.19->pyramid-arima) (2.8.1)\n",
            "Requirement already satisfied: patsy>=0.4.0 in /usr/local/lib/python3.6/dist-packages (from statsmodels>=0.9.0->pyramid-arima) (0.5.1)\n",
            "Requirement already satisfied: six>=1.5 in /usr/local/lib/python3.6/dist-packages (from python-dateutil>=2.6.1->pandas>=0.19->pyramid-arima) (1.12.0)\n",
            "Installing collected packages: pyramid-arima\n",
            "Successfully installed pyramid-arima-0.9.0\n"
          ],
          "name": "stdout"
        }
      ]
    },
    {
      "cell_type": "code",
      "metadata": {
        "id": "Le_2OxAc_fQ8",
        "colab_type": "code",
        "colab": {}
      },
      "source": [
        "from pyramid.arima import auto_arima"
      ],
      "execution_count": 0,
      "outputs": []
    },
    {
      "cell_type": "code",
      "metadata": {
        "id": "9nCngMaNDYkl",
        "colab_type": "code",
        "colab": {}
      },
      "source": [
        "import pandas as pd\n",
        "import numpy as np\n",
        "import matplotlib.pyplot as plt\n",
        "\n"
      ],
      "execution_count": 0,
      "outputs": []
    },
    {
      "cell_type": "code",
      "metadata": {
        "id": "dB-vKpa7ENrB",
        "colab_type": "code",
        "colab": {
          "base_uri": "https://localhost:8080/",
          "height": 238
        },
        "outputId": "6a1e4a50-1be6-4864-bf9c-97a126b7bf74"
      },
      "source": [
        "df = pd.read_csv(\"https://raw.githubusercontent.com/Shihabtareq/Energy-Demand-of-Bangladesh/master/Eenrgy-demand.csv\",parse_dates=['Year'], index_col='Year')\n",
        "df.head()"
      ],
      "execution_count": 17,
      "outputs": [
        {
          "output_type": "execute_result",
          "data": {
            "text/html": [
              "<div>\n",
              "<style scoped>\n",
              "    .dataframe tbody tr th:only-of-type {\n",
              "        vertical-align: middle;\n",
              "    }\n",
              "\n",
              "    .dataframe tbody tr th {\n",
              "        vertical-align: top;\n",
              "    }\n",
              "\n",
              "    .dataframe thead th {\n",
              "        text-align: right;\n",
              "    }\n",
              "</style>\n",
              "<table border=\"1\" class=\"dataframe\">\n",
              "  <thead>\n",
              "    <tr style=\"text-align: right;\">\n",
              "      <th></th>\n",
              "      <th>Demand</th>\n",
              "      <th>Population</th>\n",
              "      <th>GDP</th>\n",
              "    </tr>\n",
              "    <tr>\n",
              "      <th>Year</th>\n",
              "      <th></th>\n",
              "      <th></th>\n",
              "      <th></th>\n",
              "    </tr>\n",
              "  </thead>\n",
              "  <tbody>\n",
              "    <tr>\n",
              "      <th>1994-01-01</th>\n",
              "      <td>2038</td>\n",
              "      <td>117</td>\n",
              "      <td>300</td>\n",
              "    </tr>\n",
              "    <tr>\n",
              "      <th>1995-01-01</th>\n",
              "      <td>2220</td>\n",
              "      <td>119</td>\n",
              "      <td>329</td>\n",
              "    </tr>\n",
              "    <tr>\n",
              "      <th>1996-01-01</th>\n",
              "      <td>2419</td>\n",
              "      <td>120</td>\n",
              "      <td>395</td>\n",
              "    </tr>\n",
              "    <tr>\n",
              "      <th>1997-01-01</th>\n",
              "      <td>2638</td>\n",
              "      <td>127</td>\n",
              "      <td>401</td>\n",
              "    </tr>\n",
              "    <tr>\n",
              "      <th>1998-01-01</th>\n",
              "      <td>2881</td>\n",
              "      <td>128</td>\n",
              "      <td>407</td>\n",
              "    </tr>\n",
              "  </tbody>\n",
              "</table>\n",
              "</div>"
            ],
            "text/plain": [
              "            Demand  Population  GDP\n",
              "Year                               \n",
              "1994-01-01    2038         117  300\n",
              "1995-01-01    2220         119  329\n",
              "1996-01-01    2419         120  395\n",
              "1997-01-01    2638         127  401\n",
              "1998-01-01    2881         128  407"
            ]
          },
          "metadata": {
            "tags": []
          },
          "execution_count": 17
        }
      ]
    },
    {
      "cell_type": "code",
      "metadata": {
        "id": "5TaxPiU9EbBq",
        "colab_type": "code",
        "colab": {
          "base_uri": "https://localhost:8080/",
          "height": 90
        },
        "outputId": "6fe19fe3-49e4-406e-a7c7-0a1e4e11c91e"
      },
      "source": [
        "df.dtypes"
      ],
      "execution_count": 18,
      "outputs": [
        {
          "output_type": "execute_result",
          "data": {
            "text/plain": [
              "Demand        int64\n",
              "Population    int64\n",
              "GDP           int64\n",
              "dtype: object"
            ]
          },
          "metadata": {
            "tags": []
          },
          "execution_count": 18
        }
      ]
    },
    {
      "cell_type": "code",
      "metadata": {
        "id": "Mi-_dGyObQQZ",
        "colab_type": "code",
        "colab": {
          "base_uri": "https://localhost:8080/",
          "height": 513
        },
        "outputId": "978ac2e9-a928-4efe-a8f4-ef71957ee723"
      },
      "source": [
        "exgo=df[['Population','GDP']]\n",
        "print(exgo)"
      ],
      "execution_count": 28,
      "outputs": [
        {
          "output_type": "stream",
          "text": [
            "            Population   GDP\n",
            "Year                        \n",
            "1994-01-01         117   300\n",
            "1995-01-01         119   329\n",
            "1996-01-01         120   395\n",
            "1997-01-01         127   401\n",
            "1998-01-01         128   407\n",
            "1999-01-01         130   410\n",
            "2000-01-01         132   418\n",
            "2001-01-01         134   415\n",
            "2002-01-01         133   413\n",
            "2003-01-01         135   446\n",
            "2004-01-01         137   475\n",
            "2005-01-01         139   499\n",
            "2006-01-01         141   510\n",
            "2007-01-01         143   558\n",
            "2008-01-01         145   635\n",
            "2009-01-01         146   702\n",
            "2010-01-01         148   781\n",
            "2011-01-01         152   862\n",
            "2012-01-01         154   883\n",
            "2013-01-01         156   982\n",
            "2014-01-01         159  1119\n",
            "2015-01-01         161  1248\n",
            "2016-01-01         163  1402\n",
            "2017-01-01         164  1564\n",
            "2018-01-01         166  1698\n"
          ],
          "name": "stdout"
        }
      ]
    },
    {
      "cell_type": "code",
      "metadata": {
        "id": "WMZ_VhJeHBuv",
        "colab_type": "code",
        "colab": {
          "base_uri": "https://localhost:8080/",
          "height": 146
        },
        "outputId": "34c0ec4f-be56-46cf-82c9-17c91ef1ddf4"
      },
      "source": [
        "model = auto_arima(df.Demand, start_p=1,exogenous=exgo, start_q=1,\n",
        "                           max_p=3, max_q=3, m=12,\n",
        "                           start_P=0, seasonal=False,\n",
        "                           d=1, D=1, trace=True,\n",
        "                           error_action='ignore',  \n",
        "                           suppress_warnings=True, \n",
        "                           stepwise=True)\n",
        "print(model.aic())"
      ],
      "execution_count": 29,
      "outputs": [
        {
          "output_type": "stream",
          "text": [
            "Fit ARIMA: order=(1, 1, 1); AIC=nan, BIC=nan, Fit time=nan seconds\n",
            "ERROR! Session/line number was not unique in database. History logging moved to new session 60\n",
            "Fit ARIMA: order=(0, 1, 0); AIC=364.015, BIC=368.727, Fit time=0.011 seconds\n",
            "Fit ARIMA: order=(1, 1, 0); AIC=365.579, BIC=371.469, Fit time=0.196 seconds\n",
            "Fit ARIMA: order=(0, 1, 1); AIC=nan, BIC=nan, Fit time=0.102 seconds\n",
            "Total fit time: 0.339 seconds\n",
            "364.01518501415734\n"
          ],
          "name": "stdout"
        }
      ]
    },
    {
      "cell_type": "code",
      "metadata": {
        "id": "Aj3eylSuiFUF",
        "colab_type": "code",
        "colab": {
          "base_uri": "https://localhost:8080/",
          "height": 311
        },
        "outputId": "358fedbc-02af-4c00-b7ab-599b3acf4e01"
      },
      "source": [
        "print(model.summary())"
      ],
      "execution_count": 36,
      "outputs": [
        {
          "output_type": "stream",
          "text": [
            "                             ARIMA Model Results                              \n",
            "==============================================================================\n",
            "Dep. Variable:                    D.y   No. Observations:                   24\n",
            "Model:                 ARIMA(0, 1, 0)   Log Likelihood                -178.008\n",
            "Method:                           css   S.D. of innovations            402.641\n",
            "Date:                Tue, 07 Apr 2020   AIC                            364.015\n",
            "Time:                        16:48:27   BIC                            368.727\n",
            "Sample:                             1   HQIC                           365.265\n",
            "                                                                              \n",
            "==============================================================================\n",
            "                 coef    std err          z      P>|z|      [0.025      0.975]\n",
            "------------------------------------------------------------------------------\n",
            "const      -1004.3829   1883.162     -0.533      0.599   -4695.312    2686.546\n",
            "x1             8.8338     15.681      0.563      0.579     -21.901      39.568\n",
            "x2             0.2731      0.543      0.503      0.620      -0.791       1.337\n",
            "==============================================================================\n"
          ],
          "name": "stdout"
        }
      ]
    },
    {
      "cell_type": "code",
      "metadata": {
        "id": "1aMryjBZiHzz",
        "colab_type": "code",
        "colab": {}
      },
      "source": [
        ""
      ],
      "execution_count": 0,
      "outputs": []
    }
  ]
}